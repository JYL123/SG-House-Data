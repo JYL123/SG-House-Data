{
 "cells": [
  {
   "cell_type": "code",
   "execution_count": 2,
   "id": "79308632",
   "metadata": {},
   "outputs": [],
   "source": [
    "%matplotlib notebook\n",
    "%matplotlib inline\n",
    "\n",
    "import numpy as np\n",
    "import pandas as pd\n",
    "import matplotlib.pyplot as plt\n",
    "import matplotlib as mpl\n",
    "\n",
    "import sys\n",
    "import dtreeviz\n",
    "import graphviz\n",
    "\n",
    "from sklearn.model_selection import train_test_split\n",
    "from sklearn.metrics import mean_squared_error\n",
    "from sklearn.tree import DecisionTreeRegressor\n",
    "from sklearn import tree\n",
    "from sklearn.ensemble import IsolationForest\n",
    "from sklearn.metrics import mean_squared_error\n",
    "from sklearn.linear_model import LinearRegression"
   ]
  },
  {
   "cell_type": "code",
   "execution_count": 3,
   "id": "f2c26e55",
   "metadata": {},
   "outputs": [],
   "source": [
    "df_mrt = pd.read_csv('auxiliary-data/sg-mrt-stations.csv')\n",
    "df_com = pd.read_csv('auxiliary-data/sg-commerical-centres.csv')\n",
    "df_ps = pd.read_csv('auxiliary-data/sg-primary-schools.csv')\n",
    "df_ss = pd.read_csv('auxiliary-data/sg-secondary-schools.csv')\n",
    "df_sm = pd.read_csv('auxiliary-data/sg-shopping-malls.csv')\n",
    "df_sz = pd.read_csv('auxiliary-data/sg-subzones.csv')"
   ]
  },
  {
   "cell_type": "code",
   "execution_count": 4,
   "id": "16af37ba",
   "metadata": {},
   "outputs": [
    {
     "data": {
      "text/html": [
       "<div>\n",
       "<style scoped>\n",
       "    .dataframe tbody tr th:only-of-type {\n",
       "        vertical-align: middle;\n",
       "    }\n",
       "\n",
       "    .dataframe tbody tr th {\n",
       "        vertical-align: top;\n",
       "    }\n",
       "\n",
       "    .dataframe thead th {\n",
       "        text-align: right;\n",
       "    }\n",
       "</style>\n",
       "<table border=\"1\" class=\"dataframe\">\n",
       "  <thead>\n",
       "    <tr style=\"text-align: right;\">\n",
       "      <th></th>\n",
       "      <th>name</th>\n",
       "      <th>area_size</th>\n",
       "      <th>population</th>\n",
       "      <th>planning_area</th>\n",
       "    </tr>\n",
       "  </thead>\n",
       "  <tbody>\n",
       "    <tr>\n",
       "      <th>0</th>\n",
       "      <td>ang mo kio town centre</td>\n",
       "      <td>0.3169</td>\n",
       "      <td>4810</td>\n",
       "      <td>ang mo kio</td>\n",
       "    </tr>\n",
       "    <tr>\n",
       "      <th>1</th>\n",
       "      <td>cheng san</td>\n",
       "      <td>0.9557</td>\n",
       "      <td>28070</td>\n",
       "      <td>ang mo kio</td>\n",
       "    </tr>\n",
       "    <tr>\n",
       "      <th>2</th>\n",
       "      <td>chong boon</td>\n",
       "      <td>1.0786</td>\n",
       "      <td>26500</td>\n",
       "      <td>ang mo kio</td>\n",
       "    </tr>\n",
       "    <tr>\n",
       "      <th>3</th>\n",
       "      <td>kebun bahru</td>\n",
       "      <td>1.0464</td>\n",
       "      <td>22620</td>\n",
       "      <td>ang mo kio</td>\n",
       "    </tr>\n",
       "    <tr>\n",
       "      <th>4</th>\n",
       "      <td>sembawang hills</td>\n",
       "      <td>0.8945</td>\n",
       "      <td>6850</td>\n",
       "      <td>ang mo kio</td>\n",
       "    </tr>\n",
       "  </tbody>\n",
       "</table>\n",
       "</div>"
      ],
      "text/plain": [
       "                     name  area_size  population planning_area\n",
       "0  ang mo kio town centre     0.3169        4810    ang mo kio\n",
       "1               cheng san     0.9557       28070    ang mo kio\n",
       "2              chong boon     1.0786       26500    ang mo kio\n",
       "3             kebun bahru     1.0464       22620    ang mo kio\n",
       "4         sembawang hills     0.8945        6850    ang mo kio"
      ]
     },
     "execution_count": 4,
     "metadata": {},
     "output_type": "execute_result"
    }
   ],
   "source": [
    "df_sz.head()"
   ]
  },
  {
   "cell_type": "code",
   "execution_count": 5,
   "id": "5897fcf2",
   "metadata": {},
   "outputs": [],
   "source": [
    "df_sz = df_sz.drop(columns=['area_size', 'planning_area'])\n",
    "df_sm = df_sm.drop(columns=['lat', 'lng', 'planning_area'])\n",
    "df_ss = df_ss.drop(columns=['lat', 'lng', 'planning_area'])\n",
    "df_ps = df_ps.drop(columns=['lat', 'lng', 'planning_area'])\n",
    "df_com = df_com.drop(columns=['lat', 'lng', 'planning_area', 'type'])\n",
    "df_mrt = df_mrt.drop(columns=['lat', 'lng', 'planning_area', 'opening_year', 'name', 'line'])"
   ]
  },
  {
   "cell_type": "code",
   "execution_count": 6,
   "id": "8b46b973",
   "metadata": {},
   "outputs": [
    {
     "data": {
      "text/html": [
       "<div>\n",
       "<style scoped>\n",
       "    .dataframe tbody tr th:only-of-type {\n",
       "        vertical-align: middle;\n",
       "    }\n",
       "\n",
       "    .dataframe tbody tr th {\n",
       "        vertical-align: top;\n",
       "    }\n",
       "\n",
       "    .dataframe thead th {\n",
       "        text-align: right;\n",
       "    }\n",
       "</style>\n",
       "<table border=\"1\" class=\"dataframe\">\n",
       "  <thead>\n",
       "    <tr style=\"text-align: right;\">\n",
       "      <th></th>\n",
       "      <th>name</th>\n",
       "      <th>subzone</th>\n",
       "    </tr>\n",
       "  </thead>\n",
       "  <tbody>\n",
       "    <tr>\n",
       "      <th>0</th>\n",
       "      <td>10 AM</td>\n",
       "      <td>marina south</td>\n",
       "    </tr>\n",
       "    <tr>\n",
       "      <th>1</th>\n",
       "      <td>313@Somerset</td>\n",
       "      <td>somerset</td>\n",
       "    </tr>\n",
       "    <tr>\n",
       "      <th>2</th>\n",
       "      <td>Aperia</td>\n",
       "      <td>kallang bahru</td>\n",
       "    </tr>\n",
       "    <tr>\n",
       "      <th>3</th>\n",
       "      <td>Balestier Hill Shopping Centre</td>\n",
       "      <td>balestier</td>\n",
       "    </tr>\n",
       "    <tr>\n",
       "      <th>4</th>\n",
       "      <td>Bugis Cube</td>\n",
       "      <td>bugis</td>\n",
       "    </tr>\n",
       "  </tbody>\n",
       "</table>\n",
       "</div>"
      ],
      "text/plain": [
       "                             name        subzone\n",
       "0                           10 AM   marina south\n",
       "1                    313@Somerset       somerset\n",
       "2                          Aperia  kallang bahru\n",
       "3  Balestier Hill Shopping Centre      balestier\n",
       "4                      Bugis Cube          bugis"
      ]
     },
     "execution_count": 6,
     "metadata": {},
     "output_type": "execute_result"
    }
   ],
   "source": [
    "df_sm.head()"
   ]
  },
  {
   "cell_type": "code",
   "execution_count": 7,
   "id": "8f45365a",
   "metadata": {},
   "outputs": [],
   "source": [
    "mrt_count = df_mrt.groupby([\"subzone\"])[\"code\"].count().reset_index(name=\"count\")\n",
    "com_count = df_com.groupby([\"subzone\"])[\"name\"].count().reset_index(name=\"count\")\n",
    "ps_count = df_ps.groupby([\"subzone\"])[\"name\"].count().reset_index(name=\"count\")\n",
    "ss_count = df_ss.groupby([\"subzone\"])[\"name\"].count().reset_index(name=\"count\")\n",
    "sm_count = df_sm.groupby([\"subzone\"])[\"name\"].count().reset_index(name=\"count\")"
   ]
  },
  {
   "cell_type": "code",
   "execution_count": 8,
   "id": "9d1703b2",
   "metadata": {},
   "outputs": [
    {
     "data": {
      "text/html": [
       "<div>\n",
       "<style scoped>\n",
       "    .dataframe tbody tr th:only-of-type {\n",
       "        vertical-align: middle;\n",
       "    }\n",
       "\n",
       "    .dataframe tbody tr th {\n",
       "        vertical-align: top;\n",
       "    }\n",
       "\n",
       "    .dataframe thead th {\n",
       "        text-align: right;\n",
       "    }\n",
       "</style>\n",
       "<table border=\"1\" class=\"dataframe\">\n",
       "  <thead>\n",
       "    <tr style=\"text-align: right;\">\n",
       "      <th></th>\n",
       "      <th>subzone</th>\n",
       "      <th>count</th>\n",
       "    </tr>\n",
       "  </thead>\n",
       "  <tbody>\n",
       "    <tr>\n",
       "      <th>0</th>\n",
       "      <td>alexandra hill</td>\n",
       "      <td>1</td>\n",
       "    </tr>\n",
       "    <tr>\n",
       "      <th>1</th>\n",
       "      <td>bishan east</td>\n",
       "      <td>1</td>\n",
       "    </tr>\n",
       "    <tr>\n",
       "      <th>2</th>\n",
       "      <td>bras basah</td>\n",
       "      <td>1</td>\n",
       "    </tr>\n",
       "    <tr>\n",
       "      <th>3</th>\n",
       "      <td>changi airport</td>\n",
       "      <td>3</td>\n",
       "    </tr>\n",
       "    <tr>\n",
       "      <th>4</th>\n",
       "      <td>cleantech</td>\n",
       "      <td>1</td>\n",
       "    </tr>\n",
       "  </tbody>\n",
       "</table>\n",
       "</div>"
      ],
      "text/plain": [
       "          subzone  count\n",
       "0  alexandra hill      1\n",
       "1     bishan east      1\n",
       "2      bras basah      1\n",
       "3  changi airport      3\n",
       "4       cleantech      1"
      ]
     },
     "execution_count": 8,
     "metadata": {},
     "output_type": "execute_result"
    }
   ],
   "source": [
    "com_count.head()"
   ]
  },
  {
   "cell_type": "code",
   "execution_count": 9,
   "id": "5634f438",
   "metadata": {},
   "outputs": [],
   "source": [
    "mrt_count.columns = ['subzone', 'mrt_count']\n",
    "ps_count.columns = ['subzone', 'ps_count']\n",
    "ss_count.columns = ['subzone', 'ss_count']\n",
    "sm_count.columns = ['subzone', 'sm_count']\n",
    "df_sz.columns = ['subzone', 'population']\n",
    "com_count.columns = ['subzone', 'com_count']"
   ]
  },
  {
   "cell_type": "code",
   "execution_count": 10,
   "id": "c66cd717",
   "metadata": {},
   "outputs": [
    {
     "data": {
      "text/html": [
       "<div>\n",
       "<style scoped>\n",
       "    .dataframe tbody tr th:only-of-type {\n",
       "        vertical-align: middle;\n",
       "    }\n",
       "\n",
       "    .dataframe tbody tr th {\n",
       "        vertical-align: top;\n",
       "    }\n",
       "\n",
       "    .dataframe thead th {\n",
       "        text-align: right;\n",
       "    }\n",
       "</style>\n",
       "<table border=\"1\" class=\"dataframe\">\n",
       "  <thead>\n",
       "    <tr style=\"text-align: right;\">\n",
       "      <th></th>\n",
       "      <th>subzone</th>\n",
       "      <th>population</th>\n",
       "    </tr>\n",
       "  </thead>\n",
       "  <tbody>\n",
       "    <tr>\n",
       "      <th>0</th>\n",
       "      <td>ang mo kio town centre</td>\n",
       "      <td>4810</td>\n",
       "    </tr>\n",
       "    <tr>\n",
       "      <th>1</th>\n",
       "      <td>cheng san</td>\n",
       "      <td>28070</td>\n",
       "    </tr>\n",
       "    <tr>\n",
       "      <th>2</th>\n",
       "      <td>chong boon</td>\n",
       "      <td>26500</td>\n",
       "    </tr>\n",
       "    <tr>\n",
       "      <th>3</th>\n",
       "      <td>kebun bahru</td>\n",
       "      <td>22620</td>\n",
       "    </tr>\n",
       "    <tr>\n",
       "      <th>4</th>\n",
       "      <td>sembawang hills</td>\n",
       "      <td>6850</td>\n",
       "    </tr>\n",
       "  </tbody>\n",
       "</table>\n",
       "</div>"
      ],
      "text/plain": [
       "                  subzone  population\n",
       "0  ang mo kio town centre        4810\n",
       "1               cheng san       28070\n",
       "2              chong boon       26500\n",
       "3             kebun bahru       22620\n",
       "4         sembawang hills        6850"
      ]
     },
     "execution_count": 10,
     "metadata": {},
     "output_type": "execute_result"
    }
   ],
   "source": [
    "df_sz.head()"
   ]
  },
  {
   "cell_type": "code",
   "execution_count": 11,
   "id": "7528b172",
   "metadata": {},
   "outputs": [],
   "source": [
    "mrt_count = mrt_count.sort_values(by='subzone', ascending=True)\n",
    "ps_count = ps_count.sort_values(by='subzone', ascending=True)\n",
    "ss_count = ss_count.sort_values(by='subzone', ascending=True)\n",
    "sm_count = sm_count.sort_values(by='subzone', ascending=True)\n",
    "df_sz = df_sz.sort_values(by='subzone', ascending=True)\n",
    "com_count = com_count.sort_values(by='subzone', ascending=True)"
   ]
  },
  {
   "cell_type": "code",
   "execution_count": 12,
   "id": "d7aeb24e",
   "metadata": {},
   "outputs": [],
   "source": [
    "frames = [mrt_count, ps_count, ss_count, sm_count, df_sz]\n",
    "\n",
    "sz_mrt = df_sz.join(mrt_count.set_index('subzone'), on='subzone')\n",
    "sz_mrt_ps = sz_mrt.join(ps_count.set_index('subzone'), on='subzone')\n",
    "sz_ps_mrt_ss = sz_mrt_ps.join(ss_count.set_index('subzone'), on='subzone')\n",
    "sz_ps_mrt_ss_sm = sz_ps_mrt_ss.join(sm_count.set_index('subzone'), on='subzone')\n",
    "sz_ps_mrt_ss_sm_com = sz_ps_mrt_ss_sm.join(com_count.set_index('subzone'), on='subzone')"
   ]
  },
  {
   "cell_type": "code",
   "execution_count": 13,
   "id": "fb070053",
   "metadata": {},
   "outputs": [
    {
     "data": {
      "text/html": [
       "<div>\n",
       "<style scoped>\n",
       "    .dataframe tbody tr th:only-of-type {\n",
       "        vertical-align: middle;\n",
       "    }\n",
       "\n",
       "    .dataframe tbody tr th {\n",
       "        vertical-align: top;\n",
       "    }\n",
       "\n",
       "    .dataframe thead th {\n",
       "        text-align: right;\n",
       "    }\n",
       "</style>\n",
       "<table border=\"1\" class=\"dataframe\">\n",
       "  <thead>\n",
       "    <tr style=\"text-align: right;\">\n",
       "      <th></th>\n",
       "      <th>subzone</th>\n",
       "      <th>population</th>\n",
       "      <th>mrt_count</th>\n",
       "      <th>ps_count</th>\n",
       "      <th>ss_count</th>\n",
       "      <th>sm_count</th>\n",
       "      <th>com_count</th>\n",
       "    </tr>\n",
       "  </thead>\n",
       "  <tbody>\n",
       "    <tr>\n",
       "      <th>236</th>\n",
       "      <td>admiralty</td>\n",
       "      <td>13920</td>\n",
       "      <td>NaN</td>\n",
       "      <td>1.0</td>\n",
       "      <td>NaN</td>\n",
       "      <td>NaN</td>\n",
       "      <td>NaN</td>\n",
       "    </tr>\n",
       "    <tr>\n",
       "      <th>185</th>\n",
       "      <td>airport road</td>\n",
       "      <td>0</td>\n",
       "      <td>NaN</td>\n",
       "      <td>NaN</td>\n",
       "      <td>NaN</td>\n",
       "      <td>NaN</td>\n",
       "      <td>NaN</td>\n",
       "    </tr>\n",
       "    <tr>\n",
       "      <th>36</th>\n",
       "      <td>alexandra hill</td>\n",
       "      <td>13490</td>\n",
       "      <td>NaN</td>\n",
       "      <td>NaN</td>\n",
       "      <td>1.0</td>\n",
       "      <td>1.0</td>\n",
       "      <td>1.0</td>\n",
       "    </tr>\n",
       "    <tr>\n",
       "      <th>37</th>\n",
       "      <td>alexandra north</td>\n",
       "      <td>2620</td>\n",
       "      <td>NaN</td>\n",
       "      <td>1.0</td>\n",
       "      <td>1.0</td>\n",
       "      <td>NaN</td>\n",
       "      <td>NaN</td>\n",
       "    </tr>\n",
       "    <tr>\n",
       "      <th>101</th>\n",
       "      <td>aljunied</td>\n",
       "      <td>39990</td>\n",
       "      <td>3.0</td>\n",
       "      <td>2.0</td>\n",
       "      <td>2.0</td>\n",
       "      <td>NaN</td>\n",
       "      <td>NaN</td>\n",
       "    </tr>\n",
       "  </tbody>\n",
       "</table>\n",
       "</div>"
      ],
      "text/plain": [
       "             subzone  population  mrt_count  ps_count  ss_count  sm_count  \\\n",
       "236        admiralty       13920        NaN       1.0       NaN       NaN   \n",
       "185     airport road           0        NaN       NaN       NaN       NaN   \n",
       "36    alexandra hill       13490        NaN       NaN       1.0       1.0   \n",
       "37   alexandra north        2620        NaN       1.0       1.0       NaN   \n",
       "101         aljunied       39990        3.0       2.0       2.0       NaN   \n",
       "\n",
       "     com_count  \n",
       "236        NaN  \n",
       "185        NaN  \n",
       "36         1.0  \n",
       "37         NaN  \n",
       "101        NaN  "
      ]
     },
     "execution_count": 13,
     "metadata": {},
     "output_type": "execute_result"
    }
   ],
   "source": [
    "sz_ps_mrt_ss_sm_com.head()"
   ]
  },
  {
   "cell_type": "code",
   "execution_count": 14,
   "id": "36ac384d",
   "metadata": {},
   "outputs": [
    {
     "name": "stdout",
     "output_type": "stream",
     "text": [
      "<class 'pandas.core.frame.DataFrame'>\n",
      "Int64Index: 331 entries, 236 to 135\n",
      "Data columns (total 7 columns):\n",
      " #   Column      Non-Null Count  Dtype  \n",
      "---  ------      --------------  -----  \n",
      " 0   subzone     331 non-null    object \n",
      " 1   population  331 non-null    int64  \n",
      " 2   mrt_count   102 non-null    float64\n",
      " 3   ps_count    109 non-null    float64\n",
      " 4   ss_count    101 non-null    float64\n",
      " 5   sm_count    98 non-null     float64\n",
      " 6   com_count   31 non-null     float64\n",
      "dtypes: float64(5), int64(1), object(1)\n",
      "memory usage: 20.7+ KB\n"
     ]
    }
   ],
   "source": [
    "df_data = sz_ps_mrt_ss_sm_com  \n",
    "df_data.info()  "
   ]
  },
  {
   "cell_type": "code",
   "execution_count": 15,
   "id": "81df9d38",
   "metadata": {},
   "outputs": [
    {
     "data": {
      "text/html": [
       "<div>\n",
       "<style scoped>\n",
       "    .dataframe tbody tr th:only-of-type {\n",
       "        vertical-align: middle;\n",
       "    }\n",
       "\n",
       "    .dataframe tbody tr th {\n",
       "        vertical-align: top;\n",
       "    }\n",
       "\n",
       "    .dataframe thead th {\n",
       "        text-align: right;\n",
       "    }\n",
       "</style>\n",
       "<table border=\"1\" class=\"dataframe\">\n",
       "  <thead>\n",
       "    <tr style=\"text-align: right;\">\n",
       "      <th></th>\n",
       "      <th>subzone</th>\n",
       "      <th>population</th>\n",
       "      <th>mrt_count</th>\n",
       "      <th>ps_count</th>\n",
       "      <th>ss_count</th>\n",
       "      <th>sm_count</th>\n",
       "      <th>com_count</th>\n",
       "    </tr>\n",
       "  </thead>\n",
       "  <tbody>\n",
       "    <tr>\n",
       "      <th>236</th>\n",
       "      <td>admiralty</td>\n",
       "      <td>13920</td>\n",
       "      <td>0.0</td>\n",
       "      <td>1.0</td>\n",
       "      <td>0.0</td>\n",
       "      <td>0.0</td>\n",
       "      <td>0.0</td>\n",
       "    </tr>\n",
       "    <tr>\n",
       "      <th>36</th>\n",
       "      <td>alexandra hill</td>\n",
       "      <td>13490</td>\n",
       "      <td>0.0</td>\n",
       "      <td>0.0</td>\n",
       "      <td>1.0</td>\n",
       "      <td>1.0</td>\n",
       "      <td>1.0</td>\n",
       "    </tr>\n",
       "    <tr>\n",
       "      <th>37</th>\n",
       "      <td>alexandra north</td>\n",
       "      <td>2620</td>\n",
       "      <td>0.0</td>\n",
       "      <td>1.0</td>\n",
       "      <td>1.0</td>\n",
       "      <td>0.0</td>\n",
       "      <td>0.0</td>\n",
       "    </tr>\n",
       "    <tr>\n",
       "      <th>101</th>\n",
       "      <td>aljunied</td>\n",
       "      <td>39990</td>\n",
       "      <td>3.0</td>\n",
       "      <td>2.0</td>\n",
       "      <td>2.0</td>\n",
       "      <td>0.0</td>\n",
       "      <td>0.0</td>\n",
       "    </tr>\n",
       "    <tr>\n",
       "      <th>60</th>\n",
       "      <td>anak bukit</td>\n",
       "      <td>21870</td>\n",
       "      <td>1.0</td>\n",
       "      <td>2.0</td>\n",
       "      <td>0.0</td>\n",
       "      <td>3.0</td>\n",
       "      <td>0.0</td>\n",
       "    </tr>\n",
       "  </tbody>\n",
       "</table>\n",
       "</div>"
      ],
      "text/plain": [
       "             subzone  population  mrt_count  ps_count  ss_count  sm_count  \\\n",
       "236        admiralty       13920        0.0       1.0       0.0       0.0   \n",
       "36    alexandra hill       13490        0.0       0.0       1.0       1.0   \n",
       "37   alexandra north        2620        0.0       1.0       1.0       0.0   \n",
       "101         aljunied       39990        3.0       2.0       2.0       0.0   \n",
       "60        anak bukit       21870        1.0       2.0       0.0       3.0   \n",
       "\n",
       "     com_count  \n",
       "236        0.0  \n",
       "36         1.0  \n",
       "37         0.0  \n",
       "101        0.0  \n",
       "60         0.0  "
      ]
     },
     "execution_count": 15,
     "metadata": {},
     "output_type": "execute_result"
    }
   ],
   "source": [
    "df_data = df_data[df_data[\"population\"] > 0] \n",
    "df_data = df_data.fillna(0) \n",
    "df_data.head()"
   ]
  },
  {
   "cell_type": "code",
   "execution_count": 16,
   "id": "56890744",
   "metadata": {},
   "outputs": [
    {
     "name": "stdout",
     "output_type": "stream",
     "text": [
      "\n",
      "Skew in numerical features: \n",
      "\n"
     ]
    },
    {
     "data": {
      "text/html": [
       "<div>\n",
       "<style scoped>\n",
       "    .dataframe tbody tr th:only-of-type {\n",
       "        vertical-align: middle;\n",
       "    }\n",
       "\n",
       "    .dataframe tbody tr th {\n",
       "        vertical-align: top;\n",
       "    }\n",
       "\n",
       "    .dataframe thead th {\n",
       "        text-align: right;\n",
       "    }\n",
       "</style>\n",
       "<table border=\"1\" class=\"dataframe\">\n",
       "  <thead>\n",
       "    <tr style=\"text-align: right;\">\n",
       "      <th></th>\n",
       "      <th>Skew</th>\n",
       "    </tr>\n",
       "  </thead>\n",
       "  <tbody>\n",
       "    <tr>\n",
       "      <th>sm_count</th>\n",
       "      <td>4.351365</td>\n",
       "    </tr>\n",
       "    <tr>\n",
       "      <th>com_count</th>\n",
       "      <td>3.857349</td>\n",
       "    </tr>\n",
       "    <tr>\n",
       "      <th>population</th>\n",
       "      <td>2.231436</td>\n",
       "    </tr>\n",
       "    <tr>\n",
       "      <th>ps_count</th>\n",
       "      <td>2.211657</td>\n",
       "    </tr>\n",
       "    <tr>\n",
       "      <th>ss_count</th>\n",
       "      <td>1.865074</td>\n",
       "    </tr>\n",
       "    <tr>\n",
       "      <th>mrt_count</th>\n",
       "      <td>1.750147</td>\n",
       "    </tr>\n",
       "  </tbody>\n",
       "</table>\n",
       "</div>"
      ],
      "text/plain": [
       "                Skew\n",
       "sm_count    4.351365\n",
       "com_count   3.857349\n",
       "population  2.231436\n",
       "ps_count    2.211657\n",
       "ss_count    1.865074\n",
       "mrt_count   1.750147"
      ]
     },
     "execution_count": 16,
     "metadata": {},
     "output_type": "execute_result"
    }
   ],
   "source": [
    "from scipy.stats import norm, skew \n",
    "\n",
    "numeric_feats = df_data.dtypes[df_data.dtypes != \"object\"].index\n",
    "\n",
    "# Check the skew of all numerical features\n",
    "skewed_feats = df_data[numeric_feats].apply(lambda x: skew(x.dropna())).sort_values(ascending=False)\n",
    "print(\"\\nSkew in numerical features: \\n\")\n",
    "skewness = pd.DataFrame({'Skew' :skewed_feats})\n",
    "skewness.head(10)"
   ]
  },
  {
   "cell_type": "code",
   "execution_count": 17,
   "id": "ffed5d75",
   "metadata": {},
   "outputs": [
    {
     "name": "stdout",
     "output_type": "stream",
     "text": [
      "There are 6 skewed numerical features, and we will use box cox to transform them.\n"
     ]
    }
   ],
   "source": [
    "skewness = skewness[abs(skewness) > 0.75]\n",
    "print(\"There are {} skewed numerical features, and we will use box cox to transform them.\".format(skewness.shape[0]))\n",
    "\n",
    "from scipy.special import boxcox1p\n",
    "skewed_features = skewness.index\n",
    "lam = 0.15\n",
    "for feat in skewed_features:\n",
    "    df_data[feat] = boxcox1p(df_data[feat], lam)"
   ]
  },
  {
   "cell_type": "code",
   "execution_count": 18,
   "id": "da2105d4",
   "metadata": {},
   "outputs": [
    {
     "name": "stdout",
     "output_type": "stream",
     "text": [
      "\n",
      "Skew in numerical features: \n",
      "\n"
     ]
    },
    {
     "data": {
      "text/html": [
       "<div>\n",
       "<style scoped>\n",
       "    .dataframe tbody tr th:only-of-type {\n",
       "        vertical-align: middle;\n",
       "    }\n",
       "\n",
       "    .dataframe tbody tr th {\n",
       "        vertical-align: top;\n",
       "    }\n",
       "\n",
       "    .dataframe thead th {\n",
       "        text-align: right;\n",
       "    }\n",
       "</style>\n",
       "<table border=\"1\" class=\"dataframe\">\n",
       "  <thead>\n",
       "    <tr style=\"text-align: right;\">\n",
       "      <th></th>\n",
       "      <th>Skew</th>\n",
       "    </tr>\n",
       "  </thead>\n",
       "  <tbody>\n",
       "    <tr>\n",
       "      <th>com_count</th>\n",
       "      <td>3.139684</td>\n",
       "    </tr>\n",
       "    <tr>\n",
       "      <th>sm_count</th>\n",
       "      <td>1.743685</td>\n",
       "    </tr>\n",
       "    <tr>\n",
       "      <th>ps_count</th>\n",
       "      <td>1.182077</td>\n",
       "    </tr>\n",
       "    <tr>\n",
       "      <th>mrt_count</th>\n",
       "      <td>1.170277</td>\n",
       "    </tr>\n",
       "    <tr>\n",
       "      <th>ss_count</th>\n",
       "      <td>1.165716</td>\n",
       "    </tr>\n",
       "    <tr>\n",
       "      <th>population</th>\n",
       "      <td>-0.417021</td>\n",
       "    </tr>\n",
       "  </tbody>\n",
       "</table>\n",
       "</div>"
      ],
      "text/plain": [
       "                Skew\n",
       "com_count   3.139684\n",
       "sm_count    1.743685\n",
       "ps_count    1.182077\n",
       "mrt_count   1.170277\n",
       "ss_count    1.165716\n",
       "population -0.417021"
      ]
     },
     "execution_count": 18,
     "metadata": {},
     "output_type": "execute_result"
    }
   ],
   "source": [
    "numeric_feats = df_data.dtypes[df_data.dtypes != \"object\"].index\n",
    "\n",
    "# Check the skew of all numerical features\n",
    "skewed_feats = df_data[numeric_feats].apply(lambda x: skew(x.dropna())).sort_values(ascending=False)\n",
    "print(\"\\nSkew in numerical features: \\n\")\n",
    "skewness = pd.DataFrame({'Skew' :skewed_feats})\n",
    "skewness.head(10)"
   ]
  },
  {
   "cell_type": "code",
   "execution_count": 19,
   "id": "0c4c97ae",
   "metadata": {},
   "outputs": [],
   "source": [
    "y = df_data[['population']]\n",
    "X = df_data.drop(columns=['population', 'subzone'])"
   ]
  },
  {
   "cell_type": "code",
   "execution_count": 20,
   "id": "4cab7a71",
   "metadata": {},
   "outputs": [
    {
     "name": "stdout",
     "output_type": "stream",
     "text": [
      "(286, 1)\n",
      "(286, 1)\n"
     ]
    }
   ],
   "source": [
    "\n",
    "iso = IsolationForest(contamination=0.1)\n",
    "yhat = iso.fit_predict(X)\n",
    "\n",
    "mask = yhat != -1\n",
    "\n",
    "mask = mask.reshape(-1, 1)\n",
    "print(mask.shape)\n",
    "print(y.shape)\n",
    "X = X.iloc[mask,:]\n",
    "y = y.iloc[mask]"
   ]
  },
  {
   "cell_type": "code",
   "execution_count": 21,
   "id": "c50a6e1e",
   "metadata": {},
   "outputs": [
    {
     "name": "stdout",
     "output_type": "stream",
     "text": [
      "     population\n",
      "236   21.224026\n",
      "37    15.044282\n",
      "245   26.927118\n",
      "0     17.115096\n",
      "88     6.221214\n",
      "..          ...\n",
      "328   28.115443\n",
      "329   26.276767\n",
      "330   27.504543\n",
      "125   23.742203\n",
      "126   22.593141\n",
      "\n",
      "[257 rows x 1 columns]\n"
     ]
    }
   ],
   "source": [
    "y[y < 0] = 0\n",
    "y.replace([np.inf, -np.inf], 0, inplace=True)\n",
    "print(y)"
   ]
  },
  {
   "cell_type": "code",
   "execution_count": null,
   "id": "31ae19e0",
   "metadata": {},
   "outputs": [],
   "source": []
  },
  {
   "cell_type": "code",
   "execution_count": 22,
   "id": "f8b28aa7",
   "metadata": {},
   "outputs": [
    {
     "name": "stdout",
     "output_type": "stream",
     "text": [
      "(257, 5)\n",
      "(257, 1)\n"
     ]
    }
   ],
   "source": [
    "print(X.shape)\n",
    "print(y.shape)"
   ]
  },
  {
   "cell_type": "code",
   "execution_count": 23,
   "id": "27a03a22",
   "metadata": {},
   "outputs": [],
   "source": [
    "X_train, X_test, y_train, y_test = train_test_split(X, y, test_size=0.2, random_state=0)"
   ]
  },
  {
   "cell_type": "code",
   "execution_count": 24,
   "id": "c2ad3d87",
   "metadata": {},
   "outputs": [
    {
     "name": "stdout",
     "output_type": "stream",
     "text": [
      "If R2 reduced, then the data become more linear\n",
      "R^2: 0.5377753363476623\n"
     ]
    }
   ],
   "source": [
    "# Fitting the model\n",
    "pop_model = LinearRegression()\n",
    "pop_model.fit(X_train, y_train)\n",
    "\n",
    "# Returning the R^2 for the model\n",
    "pop_r2 = pop_model.score(X_train, y_train)\n",
    "print('If R2 reduced, then the data become more linear')\n",
    "print('R^2: {0}'.format(pop_r2)) # raw: R^2: 0.7643993036884857"
   ]
  },
  {
   "cell_type": "code",
   "execution_count": 25,
   "id": "f4b15193",
   "metadata": {},
   "outputs": [
    {
     "name": "stdout",
     "output_type": "stream",
     "text": [
      "           0          0\n",
      "0  mrt_count  -0.430017\n",
      "1   ps_count   7.608144\n",
      "2   ss_count   3.901738\n",
      "3   sm_count   2.308449\n",
      "4  com_count -10.382854\n"
     ]
    }
   ],
   "source": [
    "\n",
    "coefficients = pd.concat([pd.DataFrame(X.columns),pd.DataFrame(np.transpose(pop_model.coef_))], axis = 1)\n",
    "print(coefficients)"
   ]
  },
  {
   "cell_type": "code",
   "execution_count": 26,
   "id": "6297049d",
   "metadata": {},
   "outputs": [],
   "source": [
    "def calculate_residuals(model, features, label):\n",
    "    \"\"\"\n",
    "    Creates predictions on the features with the model and calculates residuals\n",
    "    \"\"\"\n",
    "    predictions = model.predict(features)\n",
    "    print(label.squeeze().shape)\n",
    "    df_results = pd.DataFrame({'Truth': label.squeeze(), 'Predicted': predictions.squeeze()})\n",
    "    df_results['Residuals'] = abs(df_results['Truth']) - abs(df_results['Predicted'])\n",
    "    \n",
    "    \n",
    "    \n",
    "    return df_results"
   ]
  },
  {
   "cell_type": "code",
   "execution_count": 27,
   "id": "d5fe802f",
   "metadata": {},
   "outputs": [],
   "source": [
    "def linear_assumption(model, features, label):\n",
    "    \"\"\"\n",
    "    Linearity: Assumes that there is a linear relationship between the predictors and\n",
    "               the response variable. If not, either a quadratic term or another\n",
    "               algorithm should be used.\n",
    "    \"\"\"\n",
    "    print('Assumption 1: Linear Relationship between the Target and the Feature', '\\n')\n",
    "        \n",
    "    print('Checking with a scatter plot of actual vs. predicted.',\n",
    "           'Predictions should follow the diagonal line.')\n",
    "    \n",
    "    # Calculating residuals for the plot\n",
    "    df_results = calculate_residuals(model, features, label)\n",
    "    \n",
    "    # Plotting the actual vs predicted values\n",
    "    sns.lmplot(x='Truth', y='Predicted', data=df_results, fit_reg=False, size=7)\n",
    "        \n",
    "    # Plotting the diagonal line\n",
    "    line_coords = np.arange(df_results.min().min(), df_results.max().max())\n",
    "    plt.plot(line_coords, line_coords,  # X and y points\n",
    "             color='darkorange', linestyle='--')\n",
    "    plt.title('Truth vs. Predicted')\n",
    "    plt.show()"
   ]
  },
  {
   "cell_type": "code",
   "execution_count": 28,
   "id": "9c40feea",
   "metadata": {},
   "outputs": [
    {
     "name": "stdout",
     "output_type": "stream",
     "text": [
      "Assumption 1: Linear Relationship between the Target and the Feature \n",
      "\n",
      "Checking with a scatter plot of actual vs. predicted. Predictions should follow the diagonal line.\n",
      "(52,)\n"
     ]
    },
    {
     "ename": "NameError",
     "evalue": "name 'sns' is not defined",
     "output_type": "error",
     "traceback": [
      "\u001b[0;31m---------------------------------------------------------------------------\u001b[0m",
      "\u001b[0;31mNameError\u001b[0m                                 Traceback (most recent call last)",
      "\u001b[0;32m<ipython-input-28-0e52a8648589>\u001b[0m in \u001b[0;36m<module>\u001b[0;34m\u001b[0m\n\u001b[1;32m      1\u001b[0m \u001b[0mX_train\u001b[0m \u001b[0;34m=\u001b[0m \u001b[0mX\u001b[0m\u001b[0;34m.\u001b[0m\u001b[0mto_numpy\u001b[0m\u001b[0;34m(\u001b[0m\u001b[0;34m)\u001b[0m\u001b[0;34m\u001b[0m\u001b[0;34m\u001b[0m\u001b[0m\n\u001b[1;32m      2\u001b[0m \u001b[0my_train\u001b[0m \u001b[0;34m=\u001b[0m \u001b[0my\u001b[0m\u001b[0;34m.\u001b[0m\u001b[0mto_numpy\u001b[0m\u001b[0;34m(\u001b[0m\u001b[0;34m)\u001b[0m\u001b[0;34m\u001b[0m\u001b[0;34m\u001b[0m\u001b[0m\n\u001b[0;32m----> 3\u001b[0;31m \u001b[0mlinear_assumption\u001b[0m\u001b[0;34m(\u001b[0m\u001b[0mpop_model\u001b[0m\u001b[0;34m,\u001b[0m \u001b[0mX_test\u001b[0m\u001b[0;34m,\u001b[0m \u001b[0my_test\u001b[0m\u001b[0;34m)\u001b[0m\u001b[0;34m\u001b[0m\u001b[0;34m\u001b[0m\u001b[0m\n\u001b[0m",
      "\u001b[0;32m<ipython-input-27-f9ab4fde5c6a>\u001b[0m in \u001b[0;36mlinear_assumption\u001b[0;34m(model, features, label)\u001b[0m\n\u001b[1;32m     14\u001b[0m \u001b[0;34m\u001b[0m\u001b[0m\n\u001b[1;32m     15\u001b[0m     \u001b[0;31m# Plotting the actual vs predicted values\u001b[0m\u001b[0;34m\u001b[0m\u001b[0;34m\u001b[0m\u001b[0;34m\u001b[0m\u001b[0m\n\u001b[0;32m---> 16\u001b[0;31m     \u001b[0msns\u001b[0m\u001b[0;34m.\u001b[0m\u001b[0mlmplot\u001b[0m\u001b[0;34m(\u001b[0m\u001b[0mx\u001b[0m\u001b[0;34m=\u001b[0m\u001b[0;34m'Truth'\u001b[0m\u001b[0;34m,\u001b[0m \u001b[0my\u001b[0m\u001b[0;34m=\u001b[0m\u001b[0;34m'Predicted'\u001b[0m\u001b[0;34m,\u001b[0m \u001b[0mdata\u001b[0m\u001b[0;34m=\u001b[0m\u001b[0mdf_results\u001b[0m\u001b[0;34m,\u001b[0m \u001b[0mfit_reg\u001b[0m\u001b[0;34m=\u001b[0m\u001b[0;32mFalse\u001b[0m\u001b[0;34m,\u001b[0m \u001b[0msize\u001b[0m\u001b[0;34m=\u001b[0m\u001b[0;36m7\u001b[0m\u001b[0;34m)\u001b[0m\u001b[0;34m\u001b[0m\u001b[0;34m\u001b[0m\u001b[0m\n\u001b[0m\u001b[1;32m     17\u001b[0m \u001b[0;34m\u001b[0m\u001b[0m\n\u001b[1;32m     18\u001b[0m     \u001b[0;31m# Plotting the diagonal line\u001b[0m\u001b[0;34m\u001b[0m\u001b[0;34m\u001b[0m\u001b[0;34m\u001b[0m\u001b[0m\n",
      "\u001b[0;31mNameError\u001b[0m: name 'sns' is not defined"
     ]
    }
   ],
   "source": [
    "X_train = X.to_numpy()\n",
    "y_train = y.to_numpy()\n",
    "linear_assumption(pop_model, X_test, y_test)"
   ]
  },
  {
   "cell_type": "code",
   "execution_count": null,
   "id": "f94a46cb",
   "metadata": {},
   "outputs": [],
   "source": [
    "# https://stattrek.com/regression/linear-transformation#:~:text=In%20regression%2C%20a%20transformation%20to,linear%20relationship%20between%20two%20variables.\n",
    "\n"
   ]
  },
  {
   "cell_type": "code",
   "execution_count": null,
   "id": "c2c279bd",
   "metadata": {},
   "outputs": [],
   "source": [
    "def normal_errors_assumption(model, features, label, p_value_thresh=0.05):\n",
    "    \"\"\"\n",
    "    Normality: Assumes that the error terms are normally distributed. If they are not,\n",
    "    nonlinear transformations of variables may solve this.\n",
    "               \n",
    "    This assumption being violated primarily causes issues with the confidence intervals\n",
    "    \"\"\"\n",
    "    from statsmodels.stats.diagnostic import normal_ad\n",
    "    print('Assumption 2: The error terms are normally distributed', '\\n')\n",
    "    \n",
    "    # Calculating residuals for the Anderson-Darling test\n",
    "    df_results = calculate_residuals(model, features, label)\n",
    "    \n",
    "    print('Using the Anderson-Darling test for normal distribution')\n",
    "\n",
    "    # Performing the test on the residuals\n",
    "    p_value = normal_ad(df_results['Residuals'])[1]\n",
    "    print('p-value from the test - below 0.05 generally means non-normal:', p_value)\n",
    "    \n",
    "    # Reporting the normality of the residuals\n",
    "    if p_value < p_value_thresh:\n",
    "        print('Residuals are not normally distributed')\n",
    "    else:\n",
    "        print('Residuals are normally distributed')\n",
    "    \n",
    "    # Plotting the residuals distribution\n",
    "    plt.subplots(figsize=(12, 6))\n",
    "    plt.title('Distribution of Residuals')\n",
    "    sns.distplot(df_results['Residuals'])\n",
    "    plt.show()\n",
    "    \n",
    "    print()\n",
    "    if p_value > p_value_thresh:\n",
    "        print('Assumption satisfied')\n",
    "    else:\n",
    "        print('Assumption not satisfied')\n",
    "        print()\n",
    "        print('Confidence intervals will likely be affected')\n",
    "        print('Try performing nonlinear transformations on variables')"
   ]
  },
  {
   "cell_type": "code",
   "execution_count": null,
   "id": "71ab38e1",
   "metadata": {},
   "outputs": [],
   "source": [
    "normal_errors_assumption(pop_model, X_train, y_train)"
   ]
  },
  {
   "cell_type": "code",
   "execution_count": null,
   "id": "b2531617",
   "metadata": {},
   "outputs": [],
   "source": [
    "def multicollinearity_assumption(model, features, label, feature_names=None):\n",
    "    \"\"\"\n",
    "    Multicollinearity: Assumes that predictors are not correlated with each other. If there is\n",
    "                       correlation among the predictors, then either remove prepdictors with high\n",
    "                       Variance Inflation Factor (VIF) values or perform dimensionality reduction\n",
    "                           \n",
    "                       This assumption being violated causes issues with interpretability of the \n",
    "                       coefficients and the standard errors of the coefficients.\n",
    "    \"\"\"\n",
    "    from statsmodels.stats.outliers_influence import variance_inflation_factor\n",
    "    print('Assumption 3: Little to no multicollinearity among predictors')\n",
    "        \n",
    "    # Plotting the heatmap\n",
    "    plt.figure(figsize = (10,8))\n",
    "    sns.heatmap(pd.DataFrame(features, columns=feature_names).corr(), annot=True)\n",
    "    plt.title('Correlation of Variables')\n",
    "    plt.show()\n",
    "        \n",
    "    print('Variance Inflation Factors (VIF)')\n",
    "    print('> 10: An indication that multicollinearity may be present, then we need to throw away that variable')\n",
    "    print('-------------------------------------')\n",
    "       \n",
    "    # Gathering the VIF for each variable\n",
    "    VIF = [variance_inflation_factor(features, i) for i in range(features.shape[1])]\n",
    "    for idx, vif in enumerate(VIF):\n",
    "        print('{0}: {1}'.format(feature_names[idx], vif))\n",
    "        \n",
    "    # Gathering and printing total cases of possible or definite multicollinearity\n",
    "    possible_multicollinearity = sum([1 for vif in VIF if vif > 10])\n",
    "    definite_multicollinearity = sum([1 for vif in VIF if vif > 100])\n",
    "    print()\n",
    "    print('{0} cases of possible multicollinearity'.format(possible_multicollinearity))\n",
    "    print('{0} cases of definite multicollinearity'.format(definite_multicollinearity))\n",
    "    print()\n",
    "\n",
    "    if definite_multicollinearity == 0:\n",
    "        if possible_multicollinearity == 0:\n",
    "            print('Assumption satisfied')\n",
    "        else:\n",
    "            print('Assumption possibly satisfied')\n",
    "            print()\n",
    "            print('Coefficient interpretability may be problematic')\n",
    "            print('Consider removing variables with a high Variance Inflation Factor (VIF)')\n",
    "\n",
    "    else:\n",
    "        print('Assumption not satisfied')\n",
    "        print()\n",
    "        print('Coefficient interpretability will be problematic')\n",
    "        print('Consider removing variables with a high Variance Inflation Factor (VIF)')"
   ]
  },
  {
   "cell_type": "code",
   "execution_count": null,
   "id": "46962300",
   "metadata": {},
   "outputs": [],
   "source": [
    "multicollinearity_assumption(pop_model, X_train, y_train, [ 'ps_counts',  'ss_count', 'mrt_counts', 'sm_count', 'com_count'])"
   ]
  },
  {
   "cell_type": "code",
   "execution_count": null,
   "id": "6255e479",
   "metadata": {},
   "outputs": [],
   "source": [
    "def autocorrelation_assumption(model, features, label):\n",
    "    \"\"\"\n",
    "    Autocorrelation: Assumes that there is no autocorrelation in the residuals. If there is\n",
    "                     autocorrelation, then there is a pattern that is not explained due to\n",
    "                     the current value being dependent on the previous value.\n",
    "                     This may be resolved by adding a lag variable of either the dependent\n",
    "                     variable or some of the predictors.\n",
    "    \"\"\"\n",
    "    from statsmodels.stats.stattools import durbin_watson\n",
    "    print('Assumption 4: No Autocorrelation', '\\n')\n",
    "    \n",
    "    # Calculating residuals for the Durbin Watson-tests\n",
    "    df_results = calculate_residuals(model, features, label)\n",
    "\n",
    "    print('\\nPerforming Durbin-Watson Test')\n",
    "    print('Values of 1.5 < d < 2.5 generally show that there is no autocorrelation in the data')\n",
    "    print('0 to 2< is positive autocorrelation')\n",
    "    print('>2 to 4 is negative autocorrelation')\n",
    "    print('-------------------------------------')\n",
    "    durbinWatson = durbin_watson(df_results['Residuals'])\n",
    "    print('Durbin-Watson:', durbinWatson)\n",
    "    if durbinWatson < 1.5:\n",
    "        print('Signs of positive autocorrelation', '\\n')\n",
    "        print('Assumption not satisfied')\n",
    "    elif durbinWatson > 2.5:\n",
    "        print('Signs of negative autocorrelation', '\\n')\n",
    "        print('Assumption not satisfied')\n",
    "    else:\n",
    "        print('Little to no autocorrelation', '\\n')\n",
    "        print('Assumption satisfied')"
   ]
  },
  {
   "cell_type": "code",
   "execution_count": null,
   "id": "07f78d62",
   "metadata": {},
   "outputs": [],
   "source": [
    "autocorrelation_assumption(pop_model, X_train, y_train)"
   ]
  },
  {
   "cell_type": "code",
   "execution_count": null,
   "id": "205c81e9",
   "metadata": {},
   "outputs": [],
   "source": [
    "def homoscedasticity_assumption(model, features, label):\n",
    "    \"\"\"\n",
    "    Homoscedasticity: Assumes that the errors exhibit constant variance\n",
    "    \"\"\"\n",
    "    print('Assumption 5: Homoscedasticity of Error Terms', '\\n')\n",
    "    \n",
    "    print('Residuals should have relative constant variance')\n",
    "        \n",
    "    # Calculating residuals for the plot\n",
    "    df_results = calculate_residuals(model, features, label)\n",
    "\n",
    "    # Plotting the residuals\n",
    "    plt.subplots(figsize=(12, 6))\n",
    "    ax = plt.subplot(111)  # To remove spines\n",
    "    plt.scatter(x=df_results.index, y=df_results.Residuals, alpha=0.5)\n",
    "    plt.plot(np.repeat(0, df_results.index.max()), color='darkorange', linestyle='--')\n",
    "    ax.spines['right'].set_visible(False)  # Removing the right spine\n",
    "    ax.spines['top'].set_visible(False)  # Removing the top spine\n",
    "    plt.title('Residuals')\n",
    "    plt.show()  "
   ]
  },
  {
   "cell_type": "code",
   "execution_count": null,
   "id": "5343d231",
   "metadata": {},
   "outputs": [],
   "source": [
    "homoscedasticity_assumption(pop_model, X_test, y_test)"
   ]
  },
  {
   "cell_type": "code",
   "execution_count": null,
   "id": "f83123d7",
   "metadata": {},
   "outputs": [],
   "source": [
    "regr = DecisionTreeRegressor(max_depth=3, random_state=0)\n",
    "model = regr.fit(X_train, y_train)\n",
    "\n",
    "y_predict = regr.predict(X_test)\n",
    "rms = mean_squared_error(y_test, y_predict, squared=False)\n",
    "\n",
    "%matplotlib inline\n",
    "fig = plt.figure(figsize=(18,18))\n",
    "_ = tree.plot_tree(regr, feature_names=['mrt_counts', 'ps_counts', 'ss_count', 'sm_count', 'com_count'], filled=True)"
   ]
  },
  {
   "cell_type": "code",
   "execution_count": null,
   "id": "33c4391c",
   "metadata": {},
   "outputs": [],
   "source": []
  }
 ],
 "metadata": {
  "kernelspec": {
   "display_name": "Python 3",
   "language": "python",
   "name": "python3"
  },
  "language_info": {
   "codemirror_mode": {
    "name": "ipython",
    "version": 3
   },
   "file_extension": ".py",
   "mimetype": "text/x-python",
   "name": "python",
   "nbconvert_exporter": "python",
   "pygments_lexer": "ipython3",
   "version": "3.8.8"
  }
 },
 "nbformat": 4,
 "nbformat_minor": 5
}
